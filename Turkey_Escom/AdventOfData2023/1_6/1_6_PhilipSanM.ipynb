{
 "cells": [
  {
   "cell_type": "markdown",
   "id": "c6cc7032",
   "metadata": {},
   "source": [
    "# EDA Phase   -  \n",
    "Goals for this phase:\n",
    "- What is the average passenger age?\n",
    "- Is there a relationship between age and class?\n",
    "- How many passengers were traveling alone?\n",
    "- Is there a difference between survival rate of passengers traveling alone vs passengers traveling with company?\n",
    "- How many families were traveling on the Titanic? Is there a pattern on survival rate?\n",
    "- Do we have missing or null values in our dataset? How will we tackle them?\n",
    "\n",
    "Steps for any exploratory data analysis:\n",
    "1. Import your data\n",
    "2. Understand your data. What does each feature mean? What is our target?\n",
    "3. Summarize main characteristics and statistics.\n",
    "3. Study relationship between variables. Plot different features against your target variable.\n",
    "4. Think of ideas you want to further explore. "
   ]
  },
  {
   "cell_type": "code",
   "execution_count": 1,
   "id": "c131839d",
   "metadata": {},
   "outputs": [],
   "source": [
    "import pandas as pd\n",
    "import numpy as np\n",
    "import seaborn as sns"
   ]
  },
  {
   "cell_type": "code",
   "execution_count": 2,
   "id": "45fb9441",
   "metadata": {},
   "outputs": [],
   "source": [
    "titanic_dataframe = pd.read_csv(\"./Titanic-Dataset.csv\")"
   ]
  },
  {
   "cell_type": "code",
   "execution_count": 3,
   "id": "6124e45b",
   "metadata": {},
   "outputs": [
    {
     "data": {
      "text/html": [
       "<div>\n",
       "<style scoped>\n",
       "    .dataframe tbody tr th:only-of-type {\n",
       "        vertical-align: middle;\n",
       "    }\n",
       "\n",
       "    .dataframe tbody tr th {\n",
       "        vertical-align: top;\n",
       "    }\n",
       "\n",
       "    .dataframe thead th {\n",
       "        text-align: right;\n",
       "    }\n",
       "</style>\n",
       "<table border=\"1\" class=\"dataframe\">\n",
       "  <thead>\n",
       "    <tr style=\"text-align: right;\">\n",
       "      <th></th>\n",
       "      <th>PassengerId</th>\n",
       "      <th>Survived</th>\n",
       "      <th>Pclass</th>\n",
       "      <th>Name</th>\n",
       "      <th>Sex</th>\n",
       "      <th>Age</th>\n",
       "      <th>SibSp</th>\n",
       "      <th>Parch</th>\n",
       "      <th>Ticket</th>\n",
       "      <th>Fare</th>\n",
       "      <th>Cabin</th>\n",
       "      <th>Embarked</th>\n",
       "    </tr>\n",
       "  </thead>\n",
       "  <tbody>\n",
       "    <tr>\n",
       "      <th>0</th>\n",
       "      <td>1</td>\n",
       "      <td>0</td>\n",
       "      <td>3</td>\n",
       "      <td>Braund, Mr. Owen Harris</td>\n",
       "      <td>male</td>\n",
       "      <td>22.0</td>\n",
       "      <td>1</td>\n",
       "      <td>0</td>\n",
       "      <td>A/5 21171</td>\n",
       "      <td>7.2500</td>\n",
       "      <td>NaN</td>\n",
       "      <td>S</td>\n",
       "    </tr>\n",
       "    <tr>\n",
       "      <th>1</th>\n",
       "      <td>2</td>\n",
       "      <td>1</td>\n",
       "      <td>1</td>\n",
       "      <td>Cumings, Mrs. John Bradley (Florence Briggs Th...</td>\n",
       "      <td>female</td>\n",
       "      <td>38.0</td>\n",
       "      <td>1</td>\n",
       "      <td>0</td>\n",
       "      <td>PC 17599</td>\n",
       "      <td>71.2833</td>\n",
       "      <td>C85</td>\n",
       "      <td>C</td>\n",
       "    </tr>\n",
       "    <tr>\n",
       "      <th>2</th>\n",
       "      <td>3</td>\n",
       "      <td>1</td>\n",
       "      <td>3</td>\n",
       "      <td>Heikkinen, Miss. Laina</td>\n",
       "      <td>female</td>\n",
       "      <td>26.0</td>\n",
       "      <td>0</td>\n",
       "      <td>0</td>\n",
       "      <td>STON/O2. 3101282</td>\n",
       "      <td>7.9250</td>\n",
       "      <td>NaN</td>\n",
       "      <td>S</td>\n",
       "    </tr>\n",
       "    <tr>\n",
       "      <th>3</th>\n",
       "      <td>4</td>\n",
       "      <td>1</td>\n",
       "      <td>1</td>\n",
       "      <td>Futrelle, Mrs. Jacques Heath (Lily May Peel)</td>\n",
       "      <td>female</td>\n",
       "      <td>35.0</td>\n",
       "      <td>1</td>\n",
       "      <td>0</td>\n",
       "      <td>113803</td>\n",
       "      <td>53.1000</td>\n",
       "      <td>C123</td>\n",
       "      <td>S</td>\n",
       "    </tr>\n",
       "    <tr>\n",
       "      <th>4</th>\n",
       "      <td>5</td>\n",
       "      <td>0</td>\n",
       "      <td>3</td>\n",
       "      <td>Allen, Mr. William Henry</td>\n",
       "      <td>male</td>\n",
       "      <td>35.0</td>\n",
       "      <td>0</td>\n",
       "      <td>0</td>\n",
       "      <td>373450</td>\n",
       "      <td>8.0500</td>\n",
       "      <td>NaN</td>\n",
       "      <td>S</td>\n",
       "    </tr>\n",
       "  </tbody>\n",
       "</table>\n",
       "</div>"
      ],
      "text/plain": [
       "   PassengerId  Survived  Pclass  \\\n",
       "0            1         0       3   \n",
       "1            2         1       1   \n",
       "2            3         1       3   \n",
       "3            4         1       1   \n",
       "4            5         0       3   \n",
       "\n",
       "                                                Name     Sex   Age  SibSp  \\\n",
       "0                            Braund, Mr. Owen Harris    male  22.0      1   \n",
       "1  Cumings, Mrs. John Bradley (Florence Briggs Th...  female  38.0      1   \n",
       "2                             Heikkinen, Miss. Laina  female  26.0      0   \n",
       "3       Futrelle, Mrs. Jacques Heath (Lily May Peel)  female  35.0      1   \n",
       "4                           Allen, Mr. William Henry    male  35.0      0   \n",
       "\n",
       "   Parch            Ticket     Fare Cabin Embarked  \n",
       "0      0         A/5 21171   7.2500   NaN        S  \n",
       "1      0          PC 17599  71.2833   C85        C  \n",
       "2      0  STON/O2. 3101282   7.9250   NaN        S  \n",
       "3      0            113803  53.1000  C123        S  \n",
       "4      0            373450   8.0500   NaN        S  "
      ]
     },
     "execution_count": 3,
     "metadata": {},
     "output_type": "execute_result"
    }
   ],
   "source": [
    "titanic_dataframe.head()"
   ]
  },
  {
   "cell_type": "markdown",
   "id": "d46f386a",
   "metadata": {},
   "source": [
    "* **What is the average passenger age?**"
   ]
  },
  {
   "cell_type": "code",
   "execution_count": 4,
   "id": "1fbaa8b2",
   "metadata": {},
   "outputs": [
    {
     "data": {
      "text/html": [
       "<div>\n",
       "<style scoped>\n",
       "    .dataframe tbody tr th:only-of-type {\n",
       "        vertical-align: middle;\n",
       "    }\n",
       "\n",
       "    .dataframe tbody tr th {\n",
       "        vertical-align: top;\n",
       "    }\n",
       "\n",
       "    .dataframe thead th {\n",
       "        text-align: right;\n",
       "    }\n",
       "</style>\n",
       "<table border=\"1\" class=\"dataframe\">\n",
       "  <thead>\n",
       "    <tr style=\"text-align: right;\">\n",
       "      <th></th>\n",
       "      <th>PassengerId</th>\n",
       "      <th>Survived</th>\n",
       "      <th>Pclass</th>\n",
       "      <th>Age</th>\n",
       "      <th>SibSp</th>\n",
       "      <th>Parch</th>\n",
       "      <th>Fare</th>\n",
       "    </tr>\n",
       "  </thead>\n",
       "  <tbody>\n",
       "    <tr>\n",
       "      <th>count</th>\n",
       "      <td>891.000000</td>\n",
       "      <td>891.000000</td>\n",
       "      <td>891.000000</td>\n",
       "      <td>714.000000</td>\n",
       "      <td>891.000000</td>\n",
       "      <td>891.000000</td>\n",
       "      <td>891.000000</td>\n",
       "    </tr>\n",
       "    <tr>\n",
       "      <th>mean</th>\n",
       "      <td>446.000000</td>\n",
       "      <td>0.383838</td>\n",
       "      <td>2.308642</td>\n",
       "      <td>29.699118</td>\n",
       "      <td>0.523008</td>\n",
       "      <td>0.381594</td>\n",
       "      <td>32.204208</td>\n",
       "    </tr>\n",
       "    <tr>\n",
       "      <th>std</th>\n",
       "      <td>257.353842</td>\n",
       "      <td>0.486592</td>\n",
       "      <td>0.836071</td>\n",
       "      <td>14.526497</td>\n",
       "      <td>1.102743</td>\n",
       "      <td>0.806057</td>\n",
       "      <td>49.693429</td>\n",
       "    </tr>\n",
       "    <tr>\n",
       "      <th>min</th>\n",
       "      <td>1.000000</td>\n",
       "      <td>0.000000</td>\n",
       "      <td>1.000000</td>\n",
       "      <td>0.420000</td>\n",
       "      <td>0.000000</td>\n",
       "      <td>0.000000</td>\n",
       "      <td>0.000000</td>\n",
       "    </tr>\n",
       "    <tr>\n",
       "      <th>25%</th>\n",
       "      <td>223.500000</td>\n",
       "      <td>0.000000</td>\n",
       "      <td>2.000000</td>\n",
       "      <td>20.125000</td>\n",
       "      <td>0.000000</td>\n",
       "      <td>0.000000</td>\n",
       "      <td>7.910400</td>\n",
       "    </tr>\n",
       "    <tr>\n",
       "      <th>50%</th>\n",
       "      <td>446.000000</td>\n",
       "      <td>0.000000</td>\n",
       "      <td>3.000000</td>\n",
       "      <td>28.000000</td>\n",
       "      <td>0.000000</td>\n",
       "      <td>0.000000</td>\n",
       "      <td>14.454200</td>\n",
       "    </tr>\n",
       "    <tr>\n",
       "      <th>75%</th>\n",
       "      <td>668.500000</td>\n",
       "      <td>1.000000</td>\n",
       "      <td>3.000000</td>\n",
       "      <td>38.000000</td>\n",
       "      <td>1.000000</td>\n",
       "      <td>0.000000</td>\n",
       "      <td>31.000000</td>\n",
       "    </tr>\n",
       "    <tr>\n",
       "      <th>max</th>\n",
       "      <td>891.000000</td>\n",
       "      <td>1.000000</td>\n",
       "      <td>3.000000</td>\n",
       "      <td>80.000000</td>\n",
       "      <td>8.000000</td>\n",
       "      <td>6.000000</td>\n",
       "      <td>512.329200</td>\n",
       "    </tr>\n",
       "  </tbody>\n",
       "</table>\n",
       "</div>"
      ],
      "text/plain": [
       "       PassengerId    Survived      Pclass         Age       SibSp  \\\n",
       "count   891.000000  891.000000  891.000000  714.000000  891.000000   \n",
       "mean    446.000000    0.383838    2.308642   29.699118    0.523008   \n",
       "std     257.353842    0.486592    0.836071   14.526497    1.102743   \n",
       "min       1.000000    0.000000    1.000000    0.420000    0.000000   \n",
       "25%     223.500000    0.000000    2.000000   20.125000    0.000000   \n",
       "50%     446.000000    0.000000    3.000000   28.000000    0.000000   \n",
       "75%     668.500000    1.000000    3.000000   38.000000    1.000000   \n",
       "max     891.000000    1.000000    3.000000   80.000000    8.000000   \n",
       "\n",
       "            Parch        Fare  \n",
       "count  891.000000  891.000000  \n",
       "mean     0.381594   32.204208  \n",
       "std      0.806057   49.693429  \n",
       "min      0.000000    0.000000  \n",
       "25%      0.000000    7.910400  \n",
       "50%      0.000000   14.454200  \n",
       "75%      0.000000   31.000000  \n",
       "max      6.000000  512.329200  "
      ]
     },
     "execution_count": 4,
     "metadata": {},
     "output_type": "execute_result"
    }
   ],
   "source": [
    "titanic_dataframe.describe()"
   ]
  },
  {
   "cell_type": "markdown",
   "id": "c5fccf4f",
   "metadata": {},
   "source": [
    "Average of total passengers: **29.699118**\t\n",
    "\n",
    "\n",
    "Can we also search for the average fo survivals and not?, or Can we check the average per class?...\n"
   ]
  },
  {
   "cell_type": "markdown",
   "id": "c85d224e",
   "metadata": {},
   "source": [
    "* **Is there a relationship between age and class?**"
   ]
  },
  {
   "cell_type": "code",
   "execution_count": 5,
   "id": "9b2b7f3a",
   "metadata": {
    "scrolled": true
   },
   "outputs": [
    {
     "data": {
      "text/plain": [
       "(342, 12)"
      ]
     },
     "execution_count": 5,
     "metadata": {},
     "output_type": "execute_result"
    }
   ],
   "source": [
    "titanic_dataframe[titanic_dataframe['Survived'] == 1].shape"
   ]
  },
  {
   "cell_type": "markdown",
   "id": "2cb2d8e2",
   "metadata": {},
   "source": [
    "* Total passengers that survived = 342"
   ]
  },
  {
   "cell_type": "code",
   "execution_count": 6,
   "id": "2760695b",
   "metadata": {},
   "outputs": [
    {
     "data": {
      "text/plain": [
       "(549, 12)"
      ]
     },
     "execution_count": 6,
     "metadata": {},
     "output_type": "execute_result"
    }
   ],
   "source": [
    "titanic_dataframe[titanic_dataframe['Survived'] == 0].shape"
   ]
  },
  {
   "cell_type": "markdown",
   "id": "c7932f9c",
   "metadata": {},
   "source": [
    "* \"\" \"\"   did not survive = 549"
   ]
  },
  {
   "cell_type": "code",
   "execution_count": 7,
   "id": "61ec3528",
   "metadata": {},
   "outputs": [
    {
     "data": {
      "text/html": [
       "<div>\n",
       "<style scoped>\n",
       "    .dataframe tbody tr th:only-of-type {\n",
       "        vertical-align: middle;\n",
       "    }\n",
       "\n",
       "    .dataframe tbody tr th {\n",
       "        vertical-align: top;\n",
       "    }\n",
       "\n",
       "    .dataframe thead th {\n",
       "        text-align: right;\n",
       "    }\n",
       "</style>\n",
       "<table border=\"1\" class=\"dataframe\">\n",
       "  <thead>\n",
       "    <tr style=\"text-align: right;\">\n",
       "      <th></th>\n",
       "      <th>PassengerId</th>\n",
       "      <th>Survived</th>\n",
       "      <th>Pclass</th>\n",
       "      <th>Age</th>\n",
       "      <th>SibSp</th>\n",
       "      <th>Parch</th>\n",
       "      <th>Fare</th>\n",
       "    </tr>\n",
       "  </thead>\n",
       "  <tbody>\n",
       "    <tr>\n",
       "      <th>count</th>\n",
       "      <td>342.000000</td>\n",
       "      <td>342.0</td>\n",
       "      <td>342.000000</td>\n",
       "      <td>290.000000</td>\n",
       "      <td>342.000000</td>\n",
       "      <td>342.000000</td>\n",
       "      <td>342.000000</td>\n",
       "    </tr>\n",
       "    <tr>\n",
       "      <th>mean</th>\n",
       "      <td>444.368421</td>\n",
       "      <td>1.0</td>\n",
       "      <td>1.950292</td>\n",
       "      <td>28.343690</td>\n",
       "      <td>0.473684</td>\n",
       "      <td>0.464912</td>\n",
       "      <td>48.395408</td>\n",
       "    </tr>\n",
       "    <tr>\n",
       "      <th>std</th>\n",
       "      <td>252.358840</td>\n",
       "      <td>0.0</td>\n",
       "      <td>0.863321</td>\n",
       "      <td>14.950952</td>\n",
       "      <td>0.708688</td>\n",
       "      <td>0.771712</td>\n",
       "      <td>66.596998</td>\n",
       "    </tr>\n",
       "    <tr>\n",
       "      <th>min</th>\n",
       "      <td>2.000000</td>\n",
       "      <td>1.0</td>\n",
       "      <td>1.000000</td>\n",
       "      <td>0.420000</td>\n",
       "      <td>0.000000</td>\n",
       "      <td>0.000000</td>\n",
       "      <td>0.000000</td>\n",
       "    </tr>\n",
       "    <tr>\n",
       "      <th>25%</th>\n",
       "      <td>250.750000</td>\n",
       "      <td>1.0</td>\n",
       "      <td>1.000000</td>\n",
       "      <td>19.000000</td>\n",
       "      <td>0.000000</td>\n",
       "      <td>0.000000</td>\n",
       "      <td>12.475000</td>\n",
       "    </tr>\n",
       "    <tr>\n",
       "      <th>50%</th>\n",
       "      <td>439.500000</td>\n",
       "      <td>1.0</td>\n",
       "      <td>2.000000</td>\n",
       "      <td>28.000000</td>\n",
       "      <td>0.000000</td>\n",
       "      <td>0.000000</td>\n",
       "      <td>26.000000</td>\n",
       "    </tr>\n",
       "    <tr>\n",
       "      <th>75%</th>\n",
       "      <td>651.500000</td>\n",
       "      <td>1.0</td>\n",
       "      <td>3.000000</td>\n",
       "      <td>36.000000</td>\n",
       "      <td>1.000000</td>\n",
       "      <td>1.000000</td>\n",
       "      <td>57.000000</td>\n",
       "    </tr>\n",
       "    <tr>\n",
       "      <th>max</th>\n",
       "      <td>890.000000</td>\n",
       "      <td>1.0</td>\n",
       "      <td>3.000000</td>\n",
       "      <td>80.000000</td>\n",
       "      <td>4.000000</td>\n",
       "      <td>5.000000</td>\n",
       "      <td>512.329200</td>\n",
       "    </tr>\n",
       "  </tbody>\n",
       "</table>\n",
       "</div>"
      ],
      "text/plain": [
       "       PassengerId  Survived      Pclass         Age       SibSp       Parch  \\\n",
       "count   342.000000     342.0  342.000000  290.000000  342.000000  342.000000   \n",
       "mean    444.368421       1.0    1.950292   28.343690    0.473684    0.464912   \n",
       "std     252.358840       0.0    0.863321   14.950952    0.708688    0.771712   \n",
       "min       2.000000       1.0    1.000000    0.420000    0.000000    0.000000   \n",
       "25%     250.750000       1.0    1.000000   19.000000    0.000000    0.000000   \n",
       "50%     439.500000       1.0    2.000000   28.000000    0.000000    0.000000   \n",
       "75%     651.500000       1.0    3.000000   36.000000    1.000000    1.000000   \n",
       "max     890.000000       1.0    3.000000   80.000000    4.000000    5.000000   \n",
       "\n",
       "             Fare  \n",
       "count  342.000000  \n",
       "mean    48.395408  \n",
       "std     66.596998  \n",
       "min      0.000000  \n",
       "25%     12.475000  \n",
       "50%     26.000000  \n",
       "75%     57.000000  \n",
       "max    512.329200  "
      ]
     },
     "execution_count": 7,
     "metadata": {},
     "output_type": "execute_result"
    }
   ],
   "source": [
    "titanic_dataframe[titanic_dataframe['Survived'] == 1].describe()"
   ]
  },
  {
   "cell_type": "markdown",
   "id": "bcf01c37",
   "metadata": {},
   "source": [
    "* Average age of survived passengers = 28.343690"
   ]
  },
  {
   "cell_type": "code",
   "execution_count": 8,
   "id": "9d21eae6",
   "metadata": {},
   "outputs": [
    {
     "data": {
      "text/html": [
       "<div>\n",
       "<style scoped>\n",
       "    .dataframe tbody tr th:only-of-type {\n",
       "        vertical-align: middle;\n",
       "    }\n",
       "\n",
       "    .dataframe tbody tr th {\n",
       "        vertical-align: top;\n",
       "    }\n",
       "\n",
       "    .dataframe thead th {\n",
       "        text-align: right;\n",
       "    }\n",
       "</style>\n",
       "<table border=\"1\" class=\"dataframe\">\n",
       "  <thead>\n",
       "    <tr style=\"text-align: right;\">\n",
       "      <th></th>\n",
       "      <th>PassengerId</th>\n",
       "      <th>Survived</th>\n",
       "      <th>Pclass</th>\n",
       "      <th>Age</th>\n",
       "      <th>SibSp</th>\n",
       "      <th>Parch</th>\n",
       "      <th>Fare</th>\n",
       "    </tr>\n",
       "  </thead>\n",
       "  <tbody>\n",
       "    <tr>\n",
       "      <th>count</th>\n",
       "      <td>549.000000</td>\n",
       "      <td>549.0</td>\n",
       "      <td>549.000000</td>\n",
       "      <td>424.000000</td>\n",
       "      <td>549.000000</td>\n",
       "      <td>549.000000</td>\n",
       "      <td>549.000000</td>\n",
       "    </tr>\n",
       "    <tr>\n",
       "      <th>mean</th>\n",
       "      <td>447.016393</td>\n",
       "      <td>0.0</td>\n",
       "      <td>2.531876</td>\n",
       "      <td>30.626179</td>\n",
       "      <td>0.553734</td>\n",
       "      <td>0.329690</td>\n",
       "      <td>22.117887</td>\n",
       "    </tr>\n",
       "    <tr>\n",
       "      <th>std</th>\n",
       "      <td>260.640469</td>\n",
       "      <td>0.0</td>\n",
       "      <td>0.735805</td>\n",
       "      <td>14.172110</td>\n",
       "      <td>1.288399</td>\n",
       "      <td>0.823166</td>\n",
       "      <td>31.388207</td>\n",
       "    </tr>\n",
       "    <tr>\n",
       "      <th>min</th>\n",
       "      <td>1.000000</td>\n",
       "      <td>0.0</td>\n",
       "      <td>1.000000</td>\n",
       "      <td>1.000000</td>\n",
       "      <td>0.000000</td>\n",
       "      <td>0.000000</td>\n",
       "      <td>0.000000</td>\n",
       "    </tr>\n",
       "    <tr>\n",
       "      <th>25%</th>\n",
       "      <td>211.000000</td>\n",
       "      <td>0.0</td>\n",
       "      <td>2.000000</td>\n",
       "      <td>21.000000</td>\n",
       "      <td>0.000000</td>\n",
       "      <td>0.000000</td>\n",
       "      <td>7.854200</td>\n",
       "    </tr>\n",
       "    <tr>\n",
       "      <th>50%</th>\n",
       "      <td>455.000000</td>\n",
       "      <td>0.0</td>\n",
       "      <td>3.000000</td>\n",
       "      <td>28.000000</td>\n",
       "      <td>0.000000</td>\n",
       "      <td>0.000000</td>\n",
       "      <td>10.500000</td>\n",
       "    </tr>\n",
       "    <tr>\n",
       "      <th>75%</th>\n",
       "      <td>675.000000</td>\n",
       "      <td>0.0</td>\n",
       "      <td>3.000000</td>\n",
       "      <td>39.000000</td>\n",
       "      <td>1.000000</td>\n",
       "      <td>0.000000</td>\n",
       "      <td>26.000000</td>\n",
       "    </tr>\n",
       "    <tr>\n",
       "      <th>max</th>\n",
       "      <td>891.000000</td>\n",
       "      <td>0.0</td>\n",
       "      <td>3.000000</td>\n",
       "      <td>74.000000</td>\n",
       "      <td>8.000000</td>\n",
       "      <td>6.000000</td>\n",
       "      <td>263.000000</td>\n",
       "    </tr>\n",
       "  </tbody>\n",
       "</table>\n",
       "</div>"
      ],
      "text/plain": [
       "       PassengerId  Survived      Pclass         Age       SibSp       Parch  \\\n",
       "count   549.000000     549.0  549.000000  424.000000  549.000000  549.000000   \n",
       "mean    447.016393       0.0    2.531876   30.626179    0.553734    0.329690   \n",
       "std     260.640469       0.0    0.735805   14.172110    1.288399    0.823166   \n",
       "min       1.000000       0.0    1.000000    1.000000    0.000000    0.000000   \n",
       "25%     211.000000       0.0    2.000000   21.000000    0.000000    0.000000   \n",
       "50%     455.000000       0.0    3.000000   28.000000    0.000000    0.000000   \n",
       "75%     675.000000       0.0    3.000000   39.000000    1.000000    0.000000   \n",
       "max     891.000000       0.0    3.000000   74.000000    8.000000    6.000000   \n",
       "\n",
       "             Fare  \n",
       "count  549.000000  \n",
       "mean    22.117887  \n",
       "std     31.388207  \n",
       "min      0.000000  \n",
       "25%      7.854200  \n",
       "50%     10.500000  \n",
       "75%     26.000000  \n",
       "max    263.000000  "
      ]
     },
     "execution_count": 8,
     "metadata": {},
     "output_type": "execute_result"
    }
   ],
   "source": [
    "titanic_dataframe[titanic_dataframe['Survived'] == 0].describe()"
   ]
  },
  {
   "cell_type": "markdown",
   "id": "b879ffb2",
   "metadata": {},
   "source": [
    "* age average of passengers that didnt survived = 30.626179"
   ]
  },
  {
   "cell_type": "code",
   "execution_count": 9,
   "id": "61216d19",
   "metadata": {},
   "outputs": [],
   "source": [
    "import matplotlib.pyplot as plt"
   ]
  },
  {
   "cell_type": "code",
   "execution_count": 10,
   "id": "5568f5bf",
   "metadata": {},
   "outputs": [
    {
     "data": {
      "text/plain": [
       "[136, 87, 119]"
      ]
     },
     "execution_count": 10,
     "metadata": {},
     "output_type": "execute_result"
    }
   ],
   "source": [
    "Pclasses = [\"3 -> poor\", \"2 -> Meh\", \"1-> rich\" ][::-1]\n",
    "survived_values = [titanic_dataframe[(titanic_dataframe['Survived'] == 1) & (titanic_dataframe['Pclass'] == i)].shape[0] for i in range(1, 4)]\n",
    "survived_values"
   ]
  },
  {
   "cell_type": "code",
   "execution_count": 11,
   "id": "c2ee980d",
   "metadata": {},
   "outputs": [
    {
     "data": {
      "image/png": "[encoded data removed]",
      "text/plain": [
       "<Figure size 640x480 with 1 Axes>"
      ]
     },
     "metadata": {},
     "output_type": "display_data"
    }
   ],
   "source": [
    "# Crear el gráfico de barras\n",
    "plt.bar(Pclasses, survived_values, color='blue')\n",
    "\n",
    "# Agregar etiquetas y título\n",
    "plt.xlabel('Clase')\n",
    "plt.ylabel('# sobrevivientes')\n",
    "plt.title('clase x # sobrevivientes')\n",
    "\n",
    "# Mostrar el gráfico\n",
    "plt.show()"
   ]
  },
  {
   "cell_type": "code",
   "execution_count": 12,
   "id": "ffd19139",
   "metadata": {},
   "outputs": [
    {
     "data": {
      "text/plain": [
       "[80, 97, 372]"
      ]
     },
     "execution_count": 12,
     "metadata": {},
     "output_type": "execute_result"
    }
   ],
   "source": [
    "nonsurvived_values = [titanic_dataframe[(titanic_dataframe['Survived'] == 0) & (titanic_dataframe['Pclass'] == i)].shape[0] for i in range(1, 4)]\n",
    "nonsurvived_values"
   ]
  },
  {
   "cell_type": "code",
   "execution_count": 13,
   "id": "b3bd4530",
   "metadata": {},
   "outputs": [],
   "source": [
    "total_rich_passengers = survived_values[0] + nonsurvived_values[0]\n",
    "total_middle_passengers = survived_values[1] + nonsurvived_values[1]\n",
    "total_poor_passengers = survived_values[2] + nonsurvived_values[2]"
   ]
  },
  {
   "cell_type": "code",
   "execution_count": 16,
   "id": "77f59109",
   "metadata": {},
   "outputs": [
    {
     "name": "stdout",
     "output_type": "stream",
     "text": [
      "% of rich people that survived:  62.96296296296296\n",
      "% of middle people that survived:  47.28260869565217\n",
      "% of poor people that survived:  24.236252545824847\n"
     ]
    }
   ],
   "source": [
    "print(\"% of rich people that survived: \", (survived_values[0]/ total_rich_passengers)* 100)\n",
    "print(\"% of middle people that survived: \", (survived_values[1]/ total_middle_passengers)* 100)\n",
    "print(\"% of poor people that survived: \", (survived_values[2]/ total_poor_passengers)* 100)"
   ]
  },
  {
   "cell_type": "markdown",
   "id": "131ca266",
   "metadata": {},
   "source": [
    "* **How many passengers were traveling alone?**"
   ]
  },
  {
   "cell_type": "code",
   "execution_count": 18,
   "id": "5da5e282",
   "metadata": {},
   "outputs": [
    {
     "data": {
      "text/plain": [
       "537"
      ]
     },
     "execution_count": 18,
     "metadata": {},
     "output_type": "execute_result"
    }
   ],
   "source": [
    "lonely_people = titanic_dataframe[(titanic_dataframe['SibSp'] == 0) & (titanic_dataframe['Parch'] == 0)].shape[0]\n",
    "lonely_people"
   ]
  },
  {
   "cell_type": "markdown",
   "id": "d3f4dac9",
   "metadata": {},
   "source": [
    "* Fuero 537 las personas solas que fueron al Tetanic"
   ]
  },
  {
   "cell_type": "code",
   "execution_count": 20,
   "id": "cd9277b3",
   "metadata": {},
   "outputs": [
    {
     "data": {
      "text/plain": [
       "163"
      ]
     },
     "execution_count": 20,
     "metadata": {},
     "output_type": "execute_result"
    }
   ],
   "source": [
    "lonely_survived_people = titanic_dataframe[(titanic_dataframe['SibSp'] == 0) & (titanic_dataframe['Parch'] == 0) & (titanic_dataframe['Survived'] == 1)].shape[0]\n",
    "lonely_survived_people"
   ]
  },
  {
   "cell_type": "code",
   "execution_count": 21,
   "id": "c7104cce",
   "metadata": {},
   "outputs": [
    {
     "name": "stdout",
     "output_type": "stream",
     "text": [
      "% of lonely people that survived:  30.353817504655495\n"
     ]
    }
   ],
   "source": [
    "print(\"% of lonely people that survived: \", (lonely_survived_people/ lonely_people)* 100)"
   ]
  },
  {
   "cell_type": "code",
   "execution_count": 35,
   "id": "4317b2cb",
   "metadata": {},
   "outputs": [
    {
     "data": {
      "text/plain": [
       "374"
      ]
     },
     "execution_count": 35,
     "metadata": {},
     "output_type": "execute_result"
    }
   ],
   "source": [
    "lonely_nonsurvived_people = titanic_dataframe[(titanic_dataframe['SibSp'] == 0) & (titanic_dataframe['Parch'] == 0) & (titanic_dataframe['Survived'] == 0)].shape[0]\n",
    "lonely_nonsurvived_people"
   ]
  },
  {
   "cell_type": "markdown",
   "id": "aacb6f8b",
   "metadata": {},
   "source": [
    "* **Is there a difference between survival rate of passengers traveling alone vs passengers traveling with company?**"
   ]
  },
  {
   "cell_type": "code",
   "execution_count": 25,
   "id": "04f20a57",
   "metadata": {},
   "outputs": [
    {
     "data": {
      "image/png": "[encoded data removed]",
      "text/plain": [
       "<Figure size 640x480 with 1 Axes>"
      ]
     },
     "metadata": {},
     "output_type": "display_data"
    }
   ],
   "source": [
    "\n",
    "import matplotlib.pyplot as plt\n",
    "\n",
    "survival_by_gender = titanic_dataframe[(titanic_dataframe['SibSp'] == 0) & (titanic_dataframe['Parch'] == 0)].groupby(['Sex', 'Survived']).size().unstack()\n",
    "\n",
    "survival_by_gender.plot(kind='bar', stacked=True)\n",
    "plt.xlabel('Gender')\n",
    "plt.ylabel('Count')\n",
    "plt.title('Survival Count by Sex for lonely people')\n",
    "plt.xticks(rotation=0)\n",
    "plt.legend(['Did not survive', 'Survived'], loc='upper left')\n",
    "plt.show()\n"
   ]
  },
  {
   "cell_type": "code",
   "execution_count": 28,
   "id": "b3093409",
   "metadata": {},
   "outputs": [
    {
     "data": {
      "image/png": "[encoded data removed]",
      "text/plain": [
       "<Figure size 640x480 with 1 Axes>"
      ]
     },
     "metadata": {},
     "output_type": "display_data"
    }
   ],
   "source": [
    "\n",
    "import matplotlib.pyplot as plt\n",
    "\n",
    "survival_by_gender = titanic_dataframe[(titanic_dataframe['SibSp'] != 0) | (titanic_dataframe['Parch'] != 0)].groupby(['Sex', 'Survived']).size().unstack()\n",
    "\n",
    "survival_by_gender.plot(kind='bar', stacked=True)\n",
    "plt.xlabel('Gender')\n",
    "plt.ylabel('Count')\n",
    "plt.title('Survival Count by Sex for people that went with someone')\n",
    "plt.xticks(rotation=0)\n",
    "plt.legend(['Did not survive', 'Survived'], loc='upper left')\n",
    "plt.show()\n"
   ]
  },
  {
   "cell_type": "code",
   "execution_count": 29,
   "id": "3022f1ec",
   "metadata": {},
   "outputs": [
    {
     "data": {
      "text/plain": [
       "179"
      ]
     },
     "execution_count": 29,
     "metadata": {},
     "output_type": "execute_result"
    }
   ],
   "source": [
    "survived_people_with_someone = titanic_dataframe[((titanic_dataframe['SibSp'] != 0) | (titanic_dataframe['Parch'] != 0)) & (titanic_dataframe['Survived'] == 1)].shape[0]\n",
    "survived_people_with_someone"
   ]
  },
  {
   "cell_type": "code",
   "execution_count": 30,
   "id": "cdf470d2",
   "metadata": {},
   "outputs": [
    {
     "data": {
      "text/plain": [
       "175"
      ]
     },
     "execution_count": 30,
     "metadata": {},
     "output_type": "execute_result"
    }
   ],
   "source": [
    "nonsurvived_people_with_someone = titanic_dataframe[((titanic_dataframe['SibSp'] != 0) | (titanic_dataframe['Parch'] != 0)) & (titanic_dataframe['Survived'] == 0)].shape[0]\n",
    "nonsurvived_people_with_someone"
   ]
  },
  {
   "cell_type": "code",
   "execution_count": 31,
   "id": "5a261135",
   "metadata": {},
   "outputs": [
    {
     "data": {
      "text/plain": [
       "354"
      ]
     },
     "execution_count": 31,
     "metadata": {},
     "output_type": "execute_result"
    }
   ],
   "source": [
    "people_with_someone = titanic_dataframe[(titanic_dataframe['SibSp'] != 0) | (titanic_dataframe['Parch'] != 0)].shape[0]\n",
    "people_with_someone"
   ]
  },
  {
   "cell_type": "code",
   "execution_count": 32,
   "id": "62a76629",
   "metadata": {},
   "outputs": [
    {
     "name": "stdout",
     "output_type": "stream",
     "text": [
      "% of people that survived and went with someone:  50.56497175141242\n"
     ]
    }
   ],
   "source": [
    "print(\"% of people that survived and went with someone: \", (survived_people_with_someone/ people_with_someone)* 100)"
   ]
  },
  {
   "cell_type": "code",
   "execution_count": 34,
   "id": "87045688",
   "metadata": {},
   "outputs": [
    {
     "data": {
      "image/png": "[encoded data removed]",
      "text/plain": [
       "<Figure size 640x480 with 1 Axes>"
      ]
     },
     "metadata": {},
     "output_type": "display_data"
    }
   ],
   "source": [
    "import matplotlib.pyplot as plt\n",
    "\n",
    "# Datos de ejemplo\n",
    "labels = ['survived', 'did not survived']\n",
    "sizes = [survived_people_with_someone, nonsurvived_people_with_someone]  # Porcentajes\n",
    "\n",
    "# Crear el gráfico de pastel\n",
    "plt.pie(sizes, labels=labels, autopct='%1.1f%%', startangle=90, colors=['skyblue', 'lightgreen', 'lightcoral'])\n",
    "\n",
    "# Añadir un círculo en el centro para que parezca un donut (opcional)\n",
    "centro_circulo = plt.Circle((0,0),0.70,fc='white')\n",
    "fig = plt.gcf()\n",
    "fig.gca().add_artist(centro_circulo)\n",
    "\n",
    "# Añadir título\n",
    "plt.title('Survival by People that went with someone')\n",
    "\n",
    "# Mostrar el gráfico\n",
    "plt.axis('equal')  # Así aseguras que el gráfico sea circular\n",
    "plt.show()"
   ]
  },
  {
   "cell_type": "code",
   "execution_count": 37,
   "id": "c3e5fa64",
   "metadata": {},
   "outputs": [
    {
     "data": {
      "image/png": "[encoded data removed]",
      "text/plain": [
       "<Figure size 640x480 with 1 Axes>"
      ]
     },
     "metadata": {},
     "output_type": "display_data"
    }
   ],
   "source": [
    "import matplotlib.pyplot as plt\n",
    "\n",
    "# Datos de ejemplo\n",
    "labels = ['survived', 'did not survived']\n",
    "sizes = [lonely_survived_people,lonely_nonsurvived_people ]  # Porcentajes\n",
    "\n",
    "# Crear el gráfico de pastel\n",
    "plt.pie(sizes, labels=labels, autopct='%1.1f%%', startangle=90, colors=['skyblue', 'lightgreen', 'lightcoral'])\n",
    "\n",
    "# Añadir un círculo en el centro para que parezca un donut (opcional)\n",
    "centro_circulo = plt.Circle((0,0),0.70,fc='white')\n",
    "fig = plt.gcf()\n",
    "fig.gca().add_artist(centro_circulo)\n",
    "\n",
    "# Añadir título\n",
    "plt.title('Survival by People that went alone')\n",
    "\n",
    "# Mostrar el gráfico\n",
    "plt.axis('equal')  # Así aseguras que el gráfico sea circular\n",
    "plt.show()"
   ]
  },
  {
   "cell_type": "markdown",
   "id": "d39ba9e8",
   "metadata": {},
   "source": [
    "Podemos ver que sobrevivieron mas la gente que fue con alguien en comparacion de la que fue sola"
   ]
  },
  {
   "cell_type": "markdown",
   "id": "8541de74",
   "metadata": {},
   "source": [
    "* **How many families were traveling on the Titanic? Is there a pattern on survival rate?**"
   ]
  },
  {
   "cell_type": "code",
   "execution_count": 40,
   "id": "0b3e6490",
   "metadata": {},
   "outputs": [
    {
     "data": {
      "text/plain": [
       "213"
      ]
     },
     "execution_count": 40,
     "metadata": {},
     "output_type": "execute_result"
    }
   ],
   "source": [
    "number_of_passengers_that_went_in_a_family = titanic_dataframe[titanic_dataframe['Parch'] != 0].shape[0]\n",
    "number_of_passengers_that_went_in_a_family"
   ]
  },
  {
   "cell_type": "code",
   "execution_count": 41,
   "id": "6a4fe30c",
   "metadata": {},
   "outputs": [
    {
     "data": {
      "text/plain": [
       "109"
      ]
     },
     "execution_count": 41,
     "metadata": {},
     "output_type": "execute_result"
    }
   ],
   "source": [
    "number_of_passengers_that_went_in_a_family_and_survived = titanic_dataframe[(titanic_dataframe['Parch'] != 0) & (titanic_dataframe['Survived'] == 1)].shape[0]\n",
    "number_of_passengers_that_went_in_a_family_and_survived"
   ]
  },
  {
   "cell_type": "code",
   "execution_count": 42,
   "id": "2a26fae0",
   "metadata": {},
   "outputs": [
    {
     "data": {
      "image/png": "[encoded data removed]",
      "text/plain": [
       "<Figure size 640x480 with 1 Axes>"
      ]
     },
     "metadata": {},
     "output_type": "display_data"
    }
   ],
   "source": [
    "import matplotlib.pyplot as plt\n",
    "\n",
    "# Datos de ejemplo\n",
    "labels = ['survived', 'did not survived']\n",
    "sizes = [number_of_passengers_that_went_in_a_family_and_survived,number_of_passengers_that_went_in_a_family - number_of_passengers_that_went_in_a_family_and_survived ]  # Porcentajes\n",
    "\n",
    "# Crear el gráfico de pastel\n",
    "plt.pie(sizes, labels=labels, autopct='%1.1f%%', startangle=90, colors=['skyblue', 'lightgreen', 'lightcoral'])\n",
    "\n",
    "# Añadir un círculo en el centro para que parezca un donut (opcional)\n",
    "centro_circulo = plt.Circle((0,0),0.70,fc='white')\n",
    "fig = plt.gcf()\n",
    "fig.gca().add_artist(centro_circulo)\n",
    "\n",
    "# Añadir título\n",
    "plt.title('Survival by People that went with a family')\n",
    "\n",
    "# Mostrar el gráfico\n",
    "plt.axis('equal')  # Así aseguras que el gráfico sea circular\n",
    "plt.show()"
   ]
  },
  {
   "cell_type": "markdown",
   "id": "c44e1ddc",
   "metadata": {},
   "source": [
    "Fueron 213 pasajeros que fueron en familia y 109 sobrevivieron"
   ]
  },
  {
   "cell_type": "markdown",
   "id": "6878aea7",
   "metadata": {},
   "source": [
    "* **Do we have missing or null values in our dataset? How will we tackle them?**"
   ]
  },
  {
   "cell_type": "code",
   "execution_count": 43,
   "id": "da0f6fa4",
   "metadata": {},
   "outputs": [
    {
     "data": {
      "text/plain": [
       "PassengerId      0\n",
       "Survived         0\n",
       "Pclass           0\n",
       "Name             0\n",
       "Sex              0\n",
       "Age            177\n",
       "SibSp            0\n",
       "Parch            0\n",
       "Ticket           0\n",
       "Fare             0\n",
       "Cabin          687\n",
       "Embarked         2\n",
       "dtype: int64"
      ]
     },
     "execution_count": 43,
     "metadata": {},
     "output_type": "execute_result"
    }
   ],
   "source": [
    "titanic_dataframe.isnull().sum()"
   ]
  },
  {
   "cell_type": "markdown",
   "id": "973afba1",
   "metadata": {},
   "source": [
    "Si existen datos vacios, pero como tal trabajaria con la columna de Age con alguna de las siguientes tecnicas:\n",
    "* Eliminación de filas o columnas\n",
    "* Imputación simple\n",
    "* Imputación avanzada (Knn)\n",
    "* Interpolación\n",
    "\n",
    "Donde usaria mas el Knn para ver como trabaja con esa columna\n",
    "\n",
    "Y con la otra columna donde hay valores vacios, yo diria que por el significado de la columna valdria mucho la pena tener sus datos, pero no existen suficientes datos, son mas los vacios que los que vienen en el dataframe :c"
   ]
  },
  {
   "cell_type": "code",
   "execution_count": null,
   "id": "d671c4d6",
   "metadata": {},
   "outputs": [],
   "source": []
  }
 ],
 "metadata": {
  "kernelspec": {
   "display_name": "Python 3 (ipykernel)",
   "language": "python",
   "name": "python3"
  },
  "language_info": {
   "codemirror_mode": {
    "name": "ipython",
    "version": 3
   },
   "file_extension": ".py",
   "mimetype": "text/x-python",
   "name": "python",
   "nbconvert_exporter": "python",
   "pygments_lexer": "ipython3",
   "version": "3.9.18"
  }
 },
 "nbformat": 4,
 "nbformat_minor": 5
}
